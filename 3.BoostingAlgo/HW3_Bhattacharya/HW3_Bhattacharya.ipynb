{
  "nbformat": 4,
  "nbformat_minor": 0,
  "metadata": {
    "colab": {
      "name": "HW3_Bhattacharya.ipynb",
      "provenance": []
    },
    "kernelspec": {
      "name": "python3",
      "display_name": "Python 3"
    },
    "language_info": {
      "name": "python"
    }
  },
  "cells": [
    {
      "cell_type": "code",
      "execution_count": 3,
      "metadata": {
        "colab": {
          "resources": {
            "http://localhost:8080/nbextensions/google.colab/files.js": {
              "data": "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",
              "ok": true,
              "headers": [
                [
                  "content-type",
                  "application/javascript"
                ]
              ],
              "status": 200,
              "status_text": ""
            }
          },
          "base_uri": "https://localhost:8080/",
          "height": 109
        },
        "id": "tHN8tSsXr1IP",
        "outputId": "c560a247-c736-49f2-f416-7cd58595276d"
      },
      "outputs": [
        {
          "output_type": "display_data",
          "data": {
            "text/plain": [
              "<IPython.core.display.HTML object>"
            ],
            "text/html": [
              "\n",
              "     <input type=\"file\" id=\"files-37f9509b-47cd-42e1-a6c8-871f4247002a\" name=\"files[]\" multiple disabled\n",
              "        style=\"border:none\" />\n",
              "     <output id=\"result-37f9509b-47cd-42e1-a6c8-871f4247002a\">\n",
              "      Upload widget is only available when the cell has been executed in the\n",
              "      current browser session. Please rerun this cell to enable.\n",
              "      </output>\n",
              "      <script src=\"/nbextensions/google.colab/files.js\"></script> "
            ]
          },
          "metadata": {}
        },
        {
          "output_type": "stream",
          "name": "stdout",
          "text": [
            "Saving 1646102559_507402_train35.txt to 1646102559_507402_train35.txt\n",
            "Saving 1646102559_513849_test35-nolabels.txt to 1646102559_513849_test35-nolabels.txt\n"
          ]
        }
      ],
      "source": [
        "from google.colab import files\n",
        "\n",
        "uploaded = files.upload()"
      ]
    },
    {
      "cell_type": "code",
      "source": [
        "# Let's import libraries we will use\n",
        "import numpy as np\n",
        "import pandas as pd\n",
        "import matplotlib.pyplot as plt\n",
        "import seaborn as sns\n",
        "from sklearn.model_selection import train_test_split"
      ],
      "metadata": {
        "id": "4cm8HI1Mbk_p"
      },
      "execution_count": 71,
      "outputs": []
    },
    {
      "cell_type": "code",
      "source": [
        "#file = open('1644871288_9762487_cleveland-train.csv')\n",
        "df = pd.read_csv(\"1646102559_507402_train35.txt\", header=None)\n",
        "# First 5 rows of our data\n",
        "df.head()\n",
        "df.dropna"
      ],
      "metadata": {
        "colab": {
          "base_uri": "https://localhost:8080/"
        },
        "id": "XgeMvXFZbtJJ",
        "outputId": "39ba260c-8bc3-48dc-fab1-2e40857414e6"
      },
      "execution_count": 72,
      "outputs": [
        {
          "output_type": "execute_result",
          "data": {
            "text/plain": [
              "<bound method DataFrame.dropna of       0      1      2      3      4      5      6      7      8      9    ...  \\\n",
              "0       5 -1.000 -1.000 -1.000 -0.813 -0.671 -0.809 -0.887 -0.671 -0.853  ...   \n",
              "1       3 -1.000 -1.000 -1.000 -1.000 -1.000 -0.928 -0.204  0.751  0.466  ...   \n",
              "2       3 -1.000 -1.000 -1.000 -0.830  0.442  1.000  1.000  0.479 -0.328  ...   \n",
              "3       3 -1.000 -1.000 -1.000 -1.000 -1.000 -0.104  0.549  0.579  0.579  ...   \n",
              "4       3 -1.000 -1.000 -1.000 -1.000 -1.000 -1.000 -0.107  1.000  1.000  ...   \n",
              "...   ...    ...    ...    ...    ...    ...    ...    ...    ...    ...  ...   \n",
              "1209    3 -1.000 -0.882 -0.334  0.267  0.333  0.749  1.000  1.000  1.000  ...   \n",
              "1210    3 -0.985 -0.048  0.226  0.226  0.226 -0.355 -0.807 -1.000 -0.726  ...   \n",
              "1211    3 -1.000 -1.000 -1.000 -0.988 -0.527 -0.208  0.620  1.000  0.467  ...   \n",
              "1212    3 -1.000 -1.000 -1.000 -0.990  0.708  0.557  0.347 -0.107 -0.758  ...   \n",
              "1213    3 -1.000 -1.000 -1.000 -0.783 -0.984 -0.827  0.068  1.000  1.000  ...   \n",
              "\n",
              "        247    248    249    250    251    252    253    254    255  256  \n",
              "0    -0.671 -0.671 -0.033  0.761  0.762  0.126 -0.095 -0.671 -0.828 -1.0  \n",
              "1     0.466  0.639  1.000  1.000  0.791  0.439 -0.199 -0.883 -1.000 -1.0  \n",
              "2     1.000  0.671  0.345 -0.507 -1.000 -1.000 -1.000 -1.000 -1.000 -1.0  \n",
              "3     0.388  0.579  0.811  1.000  1.000  0.715  0.107 -0.526 -1.000 -1.0  \n",
              "4    -0.280  0.322  0.813  1.000  1.000  0.633 -0.144 -0.994 -1.000 -1.0  \n",
              "...     ...    ...    ...    ...    ...    ...    ...    ...    ...  ...  \n",
              "1209  0.968  1.000  1.000  1.000  0.809  0.325 -0.820 -1.000 -1.000 -1.0  \n",
              "1210 -0.307 -0.555 -0.555 -0.555 -0.556 -1.000 -1.000 -1.000 -1.000 -1.0  \n",
              "1211 -0.116  0.899  0.416 -0.510 -1.000 -1.000 -1.000 -1.000 -1.000 -1.0  \n",
              "1212  0.697  0.636  0.167 -0.968 -1.000 -1.000 -1.000 -1.000 -1.000 -1.0  \n",
              "1213  0.805  1.000  1.000  0.727 -0.342 -0.933 -1.000 -1.000 -1.000 -1.0  \n",
              "\n",
              "[1214 rows x 257 columns]>"
            ]
          },
          "metadata": {},
          "execution_count": 72
        }
      ]
    },
    {
      "cell_type": "code",
      "source": [
        "y = df.get(0)\n",
        "x_data = df.drop([0], axis = 1)\n"
      ],
      "metadata": {
        "id": "BqFmBJ36c_BX"
      },
      "execution_count": 73,
      "outputs": []
    },
    {
      "cell_type": "code",
      "source": [
        "y"
      ],
      "metadata": {
        "colab": {
          "base_uri": "https://localhost:8080/"
        },
        "id": "piXc-ewJmI0X",
        "outputId": "c1d12fdd-8445-4025-8052-0435e8bf5953"
      },
      "execution_count": 74,
      "outputs": [
        {
          "output_type": "execute_result",
          "data": {
            "text/plain": [
              "0       5\n",
              "1       3\n",
              "2       3\n",
              "3       3\n",
              "4       3\n",
              "       ..\n",
              "1209    3\n",
              "1210    3\n",
              "1211    3\n",
              "1212    3\n",
              "1213    3\n",
              "Name: 0, Length: 1214, dtype: int64"
            ]
          },
          "metadata": {},
          "execution_count": 74
        }
      ]
    },
    {
      "cell_type": "code",
      "source": [
        "pd.DataFrame(y)"
      ],
      "metadata": {
        "colab": {
          "base_uri": "https://localhost:8080/",
          "height": 423
        },
        "id": "4age9tqsf8si",
        "outputId": "6280bb33-79e7-431e-c65d-de70e6d0831e"
      },
      "execution_count": 75,
      "outputs": [
        {
          "output_type": "execute_result",
          "data": {
            "text/plain": [
              "      0\n",
              "0     5\n",
              "1     3\n",
              "2     3\n",
              "3     3\n",
              "4     3\n",
              "...  ..\n",
              "1209  3\n",
              "1210  3\n",
              "1211  3\n",
              "1212  3\n",
              "1213  3\n",
              "\n",
              "[1214 rows x 1 columns]"
            ],
            "text/html": [
              "\n",
              "  <div id=\"df-ef6f985b-ad8a-4f7e-9a54-e12063b4de2e\">\n",
              "    <div class=\"colab-df-container\">\n",
              "      <div>\n",
              "<style scoped>\n",
              "    .dataframe tbody tr th:only-of-type {\n",
              "        vertical-align: middle;\n",
              "    }\n",
              "\n",
              "    .dataframe tbody tr th {\n",
              "        vertical-align: top;\n",
              "    }\n",
              "\n",
              "    .dataframe thead th {\n",
              "        text-align: right;\n",
              "    }\n",
              "</style>\n",
              "<table border=\"1\" class=\"dataframe\">\n",
              "  <thead>\n",
              "    <tr style=\"text-align: right;\">\n",
              "      <th></th>\n",
              "      <th>0</th>\n",
              "    </tr>\n",
              "  </thead>\n",
              "  <tbody>\n",
              "    <tr>\n",
              "      <th>0</th>\n",
              "      <td>5</td>\n",
              "    </tr>\n",
              "    <tr>\n",
              "      <th>1</th>\n",
              "      <td>3</td>\n",
              "    </tr>\n",
              "    <tr>\n",
              "      <th>2</th>\n",
              "      <td>3</td>\n",
              "    </tr>\n",
              "    <tr>\n",
              "      <th>3</th>\n",
              "      <td>3</td>\n",
              "    </tr>\n",
              "    <tr>\n",
              "      <th>4</th>\n",
              "      <td>3</td>\n",
              "    </tr>\n",
              "    <tr>\n",
              "      <th>...</th>\n",
              "      <td>...</td>\n",
              "    </tr>\n",
              "    <tr>\n",
              "      <th>1209</th>\n",
              "      <td>3</td>\n",
              "    </tr>\n",
              "    <tr>\n",
              "      <th>1210</th>\n",
              "      <td>3</td>\n",
              "    </tr>\n",
              "    <tr>\n",
              "      <th>1211</th>\n",
              "      <td>3</td>\n",
              "    </tr>\n",
              "    <tr>\n",
              "      <th>1212</th>\n",
              "      <td>3</td>\n",
              "    </tr>\n",
              "    <tr>\n",
              "      <th>1213</th>\n",
              "      <td>3</td>\n",
              "    </tr>\n",
              "  </tbody>\n",
              "</table>\n",
              "<p>1214 rows × 1 columns</p>\n",
              "</div>\n",
              "      <button class=\"colab-df-convert\" onclick=\"convertToInteractive('df-ef6f985b-ad8a-4f7e-9a54-e12063b4de2e')\"\n",
              "              title=\"Convert this dataframe to an interactive table.\"\n",
              "              style=\"display:none;\">\n",
              "        \n",
              "  <svg xmlns=\"http://www.w3.org/2000/svg\" height=\"24px\"viewBox=\"0 0 24 24\"\n",
              "       width=\"24px\">\n",
              "    <path d=\"M0 0h24v24H0V0z\" fill=\"none\"/>\n",
              "    <path d=\"M18.56 5.44l.94 2.06.94-2.06 2.06-.94-2.06-.94-.94-2.06-.94 2.06-2.06.94zm-11 1L8.5 8.5l.94-2.06 2.06-.94-2.06-.94L8.5 2.5l-.94 2.06-2.06.94zm10 10l.94 2.06.94-2.06 2.06-.94-2.06-.94-.94-2.06-.94 2.06-2.06.94z\"/><path d=\"M17.41 7.96l-1.37-1.37c-.4-.4-.92-.59-1.43-.59-.52 0-1.04.2-1.43.59L10.3 9.45l-7.72 7.72c-.78.78-.78 2.05 0 2.83L4 21.41c.39.39.9.59 1.41.59.51 0 1.02-.2 1.41-.59l7.78-7.78 2.81-2.81c.8-.78.8-2.07 0-2.86zM5.41 20L4 18.59l7.72-7.72 1.47 1.35L5.41 20z\"/>\n",
              "  </svg>\n",
              "      </button>\n",
              "      \n",
              "  <style>\n",
              "    .colab-df-container {\n",
              "      display:flex;\n",
              "      flex-wrap:wrap;\n",
              "      gap: 12px;\n",
              "    }\n",
              "\n",
              "    .colab-df-convert {\n",
              "      background-color: #E8F0FE;\n",
              "      border: none;\n",
              "      border-radius: 50%;\n",
              "      cursor: pointer;\n",
              "      display: none;\n",
              "      fill: #1967D2;\n",
              "      height: 32px;\n",
              "      padding: 0 0 0 0;\n",
              "      width: 32px;\n",
              "    }\n",
              "\n",
              "    .colab-df-convert:hover {\n",
              "      background-color: #E2EBFA;\n",
              "      box-shadow: 0px 1px 2px rgba(60, 64, 67, 0.3), 0px 1px 3px 1px rgba(60, 64, 67, 0.15);\n",
              "      fill: #174EA6;\n",
              "    }\n",
              "\n",
              "    [theme=dark] .colab-df-convert {\n",
              "      background-color: #3B4455;\n",
              "      fill: #D2E3FC;\n",
              "    }\n",
              "\n",
              "    [theme=dark] .colab-df-convert:hover {\n",
              "      background-color: #434B5C;\n",
              "      box-shadow: 0px 1px 3px 1px rgba(0, 0, 0, 0.15);\n",
              "      filter: drop-shadow(0px 1px 2px rgba(0, 0, 0, 0.3));\n",
              "      fill: #FFFFFF;\n",
              "    }\n",
              "  </style>\n",
              "\n",
              "      <script>\n",
              "        const buttonEl =\n",
              "          document.querySelector('#df-ef6f985b-ad8a-4f7e-9a54-e12063b4de2e button.colab-df-convert');\n",
              "        buttonEl.style.display =\n",
              "          google.colab.kernel.accessAllowed ? 'block' : 'none';\n",
              "\n",
              "        async function convertToInteractive(key) {\n",
              "          const element = document.querySelector('#df-ef6f985b-ad8a-4f7e-9a54-e12063b4de2e');\n",
              "          const dataTable =\n",
              "            await google.colab.kernel.invokeFunction('convertToInteractive',\n",
              "                                                     [key], {});\n",
              "          if (!dataTable) return;\n",
              "\n",
              "          const docLinkHtml = 'Like what you see? Visit the ' +\n",
              "            '<a target=\"_blank\" href=https://colab.research.google.com/notebooks/data_table.ipynb>data table notebook</a>'\n",
              "            + ' to learn more about interactive tables.';\n",
              "          element.innerHTML = '';\n",
              "          dataTable['output_type'] = 'display_data';\n",
              "          await google.colab.output.renderOutput(dataTable, element);\n",
              "          const docLink = document.createElement('div');\n",
              "          docLink.innerHTML = docLinkHtml;\n",
              "          element.appendChild(docLink);\n",
              "        }\n",
              "      </script>\n",
              "    </div>\n",
              "  </div>\n",
              "  "
            ]
          },
          "metadata": {},
          "execution_count": 75
        }
      ]
    },
    {
      "cell_type": "code",
      "source": [
        "y"
      ],
      "metadata": {
        "colab": {
          "base_uri": "https://localhost:8080/"
        },
        "id": "yXBrXm1WmMOn",
        "outputId": "4b7d4006-542f-46b3-cc3f-0757af4d8c82"
      },
      "execution_count": 76,
      "outputs": [
        {
          "output_type": "execute_result",
          "data": {
            "text/plain": [
              "0       5\n",
              "1       3\n",
              "2       3\n",
              "3       3\n",
              "4       3\n",
              "       ..\n",
              "1209    3\n",
              "1210    3\n",
              "1211    3\n",
              "1212    3\n",
              "1213    3\n",
              "Name: 0, Length: 1214, dtype: int64"
            ]
          },
          "metadata": {},
          "execution_count": 76
        }
      ]
    },
    {
      "cell_type": "code",
      "source": [
        "set(y)"
      ],
      "metadata": {
        "colab": {
          "base_uri": "https://localhost:8080/"
        },
        "id": "XblLtYU1mBzA",
        "outputId": "16c52853-855f-462d-b11b-419e24ded667"
      },
      "execution_count": 77,
      "outputs": [
        {
          "output_type": "execute_result",
          "data": {
            "text/plain": [
              "{3, 5}"
            ]
          },
          "metadata": {},
          "execution_count": 77
        }
      ]
    },
    {
      "cell_type": "code",
      "source": [
        "y= y.replace(5,1)\n",
        "y= y.replace(3,-1)"
      ],
      "metadata": {
        "id": "gYlqjkQlfmQi"
      },
      "execution_count": 78,
      "outputs": []
    },
    {
      "cell_type": "code",
      "source": [
        "y"
      ],
      "metadata": {
        "colab": {
          "base_uri": "https://localhost:8080/"
        },
        "id": "f_RR2d75dfE5",
        "outputId": "45007165-f1db-442f-8791-05f922bf0028"
      },
      "execution_count": 79,
      "outputs": [
        {
          "output_type": "execute_result",
          "data": {
            "text/plain": [
              "0       1\n",
              "1      -1\n",
              "2      -1\n",
              "3      -1\n",
              "4      -1\n",
              "       ..\n",
              "1209   -1\n",
              "1210   -1\n",
              "1211   -1\n",
              "1212   -1\n",
              "1213   -1\n",
              "Name: 0, Length: 1214, dtype: int64"
            ]
          },
          "metadata": {},
          "execution_count": 79
        }
      ]
    },
    {
      "cell_type": "code",
      "source": [
        "set(y)"
      ],
      "metadata": {
        "colab": {
          "base_uri": "https://localhost:8080/"
        },
        "id": "meCBzTuFliPV",
        "outputId": "cab93350-74b9-4c62-9ea3-1d4f23990347"
      },
      "execution_count": 80,
      "outputs": [
        {
          "output_type": "execute_result",
          "data": {
            "text/plain": [
              "{-1, 1}"
            ]
          },
          "metadata": {},
          "execution_count": 80
        }
      ]
    },
    {
      "cell_type": "code",
      "source": [
        "x_train, x_test, y_train, y_test = train_test_split(x_data,y,test_size = 0.2,random_state=0)"
      ],
      "metadata": {
        "id": "chZsrDsldkRI"
      },
      "execution_count": 81,
      "outputs": []
    },
    {
      "cell_type": "code",
      "source": [
        "x_train"
      ],
      "metadata": {
        "colab": {
          "base_uri": "https://localhost:8080/",
          "height": 423
        },
        "id": "X-Qs6b2OiOBf",
        "outputId": "bbe783ca-0fd1-4a9a-e1b7-df8960638910"
      },
      "execution_count": 82,
      "outputs": [
        {
          "output_type": "execute_result",
          "data": {
            "text/plain": [
              "      1    2      3      4      5      6      7      8      9      10   ...  \\\n",
              "893  -1.0 -1.0 -1.000 -1.000 -1.000 -1.000 -1.000 -1.000 -1.000 -1.000  ...   \n",
              "1031 -1.0 -1.0 -1.000 -1.000 -0.718  0.438  0.841  1.000  1.000  0.646  ...   \n",
              "342  -1.0 -1.0 -0.965  0.122  0.952  1.000  1.000  0.971  0.549  0.237  ...   \n",
              "85   -1.0 -1.0 -1.000 -1.000  0.637 -0.172 -0.403 -0.161  0.491  0.595  ...   \n",
              "192  -1.0 -1.0 -1.000 -1.000 -0.985  0.075  0.438  0.438  0.438  0.596  ...   \n",
              "...   ...  ...    ...    ...    ...    ...    ...    ...    ...    ...  ...   \n",
              "1033 -1.0 -1.0 -0.384  0.309  0.023 -0.574 -0.574 -0.394 -0.341 -0.299  ...   \n",
              "763  -1.0 -1.0 -1.000 -1.000 -1.000 -1.000 -1.000  0.572  1.000  0.546  ...   \n",
              "835  -1.0 -1.0 -1.000 -0.205 -0.104 -0.075  0.836  1.000  1.000  1.000  ...   \n",
              "559  -1.0 -1.0 -1.000 -0.573  0.867  1.000  0.723  0.311 -0.268 -0.847  ...   \n",
              "684  -1.0 -1.0 -1.000 -1.000 -1.000 -0.922  0.609  0.933  0.337 -0.549  ...   \n",
              "\n",
              "        247    248    249    250    251    252    253    254    255  256  \n",
              "893  -1.000 -1.000 -1.000 -1.000 -1.000 -1.000 -1.000 -1.000 -1.000 -1.0  \n",
              "1031  0.214  0.814  1.000  1.000  0.455 -0.323 -0.957 -1.000 -1.000 -1.0  \n",
              "342   0.658  0.948  0.848  1.000  1.000  0.973  0.549  0.425 -0.448 -1.0  \n",
              "85    1.000  0.625 -0.664 -1.000 -1.000 -1.000 -1.000 -1.000 -1.000 -1.0  \n",
              "192   0.438  0.438  0.911  0.439 -0.153 -0.872 -1.000 -1.000 -1.000 -1.0  \n",
              "...     ...    ...    ...    ...    ...    ...    ...    ...    ...  ...  \n",
              "1033 -0.279  0.572  1.000  0.226 -0.879 -1.000 -1.000 -1.000 -1.000 -1.0  \n",
              "763   0.904  0.515  0.168 -0.653 -0.995 -1.000 -1.000 -1.000 -1.000 -1.0  \n",
              "835   0.931  1.000  0.897 -0.635 -1.000 -1.000 -1.000 -1.000 -1.000 -1.0  \n",
              "559   0.582  0.116 -0.594 -0.991 -1.000 -1.000 -1.000 -1.000 -1.000 -1.0  \n",
              "684   0.565  1.000  1.000  1.000  0.337 -0.992 -1.000 -1.000 -1.000 -1.0  \n",
              "\n",
              "[971 rows x 256 columns]"
            ],
            "text/html": [
              "\n",
              "  <div id=\"df-54c0b40f-b9fe-4d1f-a6c8-83589ceb2049\">\n",
              "    <div class=\"colab-df-container\">\n",
              "      <div>\n",
              "<style scoped>\n",
              "    .dataframe tbody tr th:only-of-type {\n",
              "        vertical-align: middle;\n",
              "    }\n",
              "\n",
              "    .dataframe tbody tr th {\n",
              "        vertical-align: top;\n",
              "    }\n",
              "\n",
              "    .dataframe thead th {\n",
              "        text-align: right;\n",
              "    }\n",
              "</style>\n",
              "<table border=\"1\" class=\"dataframe\">\n",
              "  <thead>\n",
              "    <tr style=\"text-align: right;\">\n",
              "      <th></th>\n",
              "      <th>1</th>\n",
              "      <th>2</th>\n",
              "      <th>3</th>\n",
              "      <th>4</th>\n",
              "      <th>5</th>\n",
              "      <th>6</th>\n",
              "      <th>7</th>\n",
              "      <th>8</th>\n",
              "      <th>9</th>\n",
              "      <th>10</th>\n",
              "      <th>...</th>\n",
              "      <th>247</th>\n",
              "      <th>248</th>\n",
              "      <th>249</th>\n",
              "      <th>250</th>\n",
              "      <th>251</th>\n",
              "      <th>252</th>\n",
              "      <th>253</th>\n",
              "      <th>254</th>\n",
              "      <th>255</th>\n",
              "      <th>256</th>\n",
              "    </tr>\n",
              "  </thead>\n",
              "  <tbody>\n",
              "    <tr>\n",
              "      <th>893</th>\n",
              "      <td>-1.0</td>\n",
              "      <td>-1.0</td>\n",
              "      <td>-1.000</td>\n",
              "      <td>-1.000</td>\n",
              "      <td>-1.000</td>\n",
              "      <td>-1.000</td>\n",
              "      <td>-1.000</td>\n",
              "      <td>-1.000</td>\n",
              "      <td>-1.000</td>\n",
              "      <td>-1.000</td>\n",
              "      <td>...</td>\n",
              "      <td>-1.000</td>\n",
              "      <td>-1.000</td>\n",
              "      <td>-1.000</td>\n",
              "      <td>-1.000</td>\n",
              "      <td>-1.000</td>\n",
              "      <td>-1.000</td>\n",
              "      <td>-1.000</td>\n",
              "      <td>-1.000</td>\n",
              "      <td>-1.000</td>\n",
              "      <td>-1.0</td>\n",
              "    </tr>\n",
              "    <tr>\n",
              "      <th>1031</th>\n",
              "      <td>-1.0</td>\n",
              "      <td>-1.0</td>\n",
              "      <td>-1.000</td>\n",
              "      <td>-1.000</td>\n",
              "      <td>-0.718</td>\n",
              "      <td>0.438</td>\n",
              "      <td>0.841</td>\n",
              "      <td>1.000</td>\n",
              "      <td>1.000</td>\n",
              "      <td>0.646</td>\n",
              "      <td>...</td>\n",
              "      <td>0.214</td>\n",
              "      <td>0.814</td>\n",
              "      <td>1.000</td>\n",
              "      <td>1.000</td>\n",
              "      <td>0.455</td>\n",
              "      <td>-0.323</td>\n",
              "      <td>-0.957</td>\n",
              "      <td>-1.000</td>\n",
              "      <td>-1.000</td>\n",
              "      <td>-1.0</td>\n",
              "    </tr>\n",
              "    <tr>\n",
              "      <th>342</th>\n",
              "      <td>-1.0</td>\n",
              "      <td>-1.0</td>\n",
              "      <td>-0.965</td>\n",
              "      <td>0.122</td>\n",
              "      <td>0.952</td>\n",
              "      <td>1.000</td>\n",
              "      <td>1.000</td>\n",
              "      <td>0.971</td>\n",
              "      <td>0.549</td>\n",
              "      <td>0.237</td>\n",
              "      <td>...</td>\n",
              "      <td>0.658</td>\n",
              "      <td>0.948</td>\n",
              "      <td>0.848</td>\n",
              "      <td>1.000</td>\n",
              "      <td>1.000</td>\n",
              "      <td>0.973</td>\n",
              "      <td>0.549</td>\n",
              "      <td>0.425</td>\n",
              "      <td>-0.448</td>\n",
              "      <td>-1.0</td>\n",
              "    </tr>\n",
              "    <tr>\n",
              "      <th>85</th>\n",
              "      <td>-1.0</td>\n",
              "      <td>-1.0</td>\n",
              "      <td>-1.000</td>\n",
              "      <td>-1.000</td>\n",
              "      <td>0.637</td>\n",
              "      <td>-0.172</td>\n",
              "      <td>-0.403</td>\n",
              "      <td>-0.161</td>\n",
              "      <td>0.491</td>\n",
              "      <td>0.595</td>\n",
              "      <td>...</td>\n",
              "      <td>1.000</td>\n",
              "      <td>0.625</td>\n",
              "      <td>-0.664</td>\n",
              "      <td>-1.000</td>\n",
              "      <td>-1.000</td>\n",
              "      <td>-1.000</td>\n",
              "      <td>-1.000</td>\n",
              "      <td>-1.000</td>\n",
              "      <td>-1.000</td>\n",
              "      <td>-1.0</td>\n",
              "    </tr>\n",
              "    <tr>\n",
              "      <th>192</th>\n",
              "      <td>-1.0</td>\n",
              "      <td>-1.0</td>\n",
              "      <td>-1.000</td>\n",
              "      <td>-1.000</td>\n",
              "      <td>-0.985</td>\n",
              "      <td>0.075</td>\n",
              "      <td>0.438</td>\n",
              "      <td>0.438</td>\n",
              "      <td>0.438</td>\n",
              "      <td>0.596</td>\n",
              "      <td>...</td>\n",
              "      <td>0.438</td>\n",
              "      <td>0.438</td>\n",
              "      <td>0.911</td>\n",
              "      <td>0.439</td>\n",
              "      <td>-0.153</td>\n",
              "      <td>-0.872</td>\n",
              "      <td>-1.000</td>\n",
              "      <td>-1.000</td>\n",
              "      <td>-1.000</td>\n",
              "      <td>-1.0</td>\n",
              "    </tr>\n",
              "    <tr>\n",
              "      <th>...</th>\n",
              "      <td>...</td>\n",
              "      <td>...</td>\n",
              "      <td>...</td>\n",
              "      <td>...</td>\n",
              "      <td>...</td>\n",
              "      <td>...</td>\n",
              "      <td>...</td>\n",
              "      <td>...</td>\n",
              "      <td>...</td>\n",
              "      <td>...</td>\n",
              "      <td>...</td>\n",
              "      <td>...</td>\n",
              "      <td>...</td>\n",
              "      <td>...</td>\n",
              "      <td>...</td>\n",
              "      <td>...</td>\n",
              "      <td>...</td>\n",
              "      <td>...</td>\n",
              "      <td>...</td>\n",
              "      <td>...</td>\n",
              "      <td>...</td>\n",
              "    </tr>\n",
              "    <tr>\n",
              "      <th>1033</th>\n",
              "      <td>-1.0</td>\n",
              "      <td>-1.0</td>\n",
              "      <td>-0.384</td>\n",
              "      <td>0.309</td>\n",
              "      <td>0.023</td>\n",
              "      <td>-0.574</td>\n",
              "      <td>-0.574</td>\n",
              "      <td>-0.394</td>\n",
              "      <td>-0.341</td>\n",
              "      <td>-0.299</td>\n",
              "      <td>...</td>\n",
              "      <td>-0.279</td>\n",
              "      <td>0.572</td>\n",
              "      <td>1.000</td>\n",
              "      <td>0.226</td>\n",
              "      <td>-0.879</td>\n",
              "      <td>-1.000</td>\n",
              "      <td>-1.000</td>\n",
              "      <td>-1.000</td>\n",
              "      <td>-1.000</td>\n",
              "      <td>-1.0</td>\n",
              "    </tr>\n",
              "    <tr>\n",
              "      <th>763</th>\n",
              "      <td>-1.0</td>\n",
              "      <td>-1.0</td>\n",
              "      <td>-1.000</td>\n",
              "      <td>-1.000</td>\n",
              "      <td>-1.000</td>\n",
              "      <td>-1.000</td>\n",
              "      <td>-1.000</td>\n",
              "      <td>0.572</td>\n",
              "      <td>1.000</td>\n",
              "      <td>0.546</td>\n",
              "      <td>...</td>\n",
              "      <td>0.904</td>\n",
              "      <td>0.515</td>\n",
              "      <td>0.168</td>\n",
              "      <td>-0.653</td>\n",
              "      <td>-0.995</td>\n",
              "      <td>-1.000</td>\n",
              "      <td>-1.000</td>\n",
              "      <td>-1.000</td>\n",
              "      <td>-1.000</td>\n",
              "      <td>-1.0</td>\n",
              "    </tr>\n",
              "    <tr>\n",
              "      <th>835</th>\n",
              "      <td>-1.0</td>\n",
              "      <td>-1.0</td>\n",
              "      <td>-1.000</td>\n",
              "      <td>-0.205</td>\n",
              "      <td>-0.104</td>\n",
              "      <td>-0.075</td>\n",
              "      <td>0.836</td>\n",
              "      <td>1.000</td>\n",
              "      <td>1.000</td>\n",
              "      <td>1.000</td>\n",
              "      <td>...</td>\n",
              "      <td>0.931</td>\n",
              "      <td>1.000</td>\n",
              "      <td>0.897</td>\n",
              "      <td>-0.635</td>\n",
              "      <td>-1.000</td>\n",
              "      <td>-1.000</td>\n",
              "      <td>-1.000</td>\n",
              "      <td>-1.000</td>\n",
              "      <td>-1.000</td>\n",
              "      <td>-1.0</td>\n",
              "    </tr>\n",
              "    <tr>\n",
              "      <th>559</th>\n",
              "      <td>-1.0</td>\n",
              "      <td>-1.0</td>\n",
              "      <td>-1.000</td>\n",
              "      <td>-0.573</td>\n",
              "      <td>0.867</td>\n",
              "      <td>1.000</td>\n",
              "      <td>0.723</td>\n",
              "      <td>0.311</td>\n",
              "      <td>-0.268</td>\n",
              "      <td>-0.847</td>\n",
              "      <td>...</td>\n",
              "      <td>0.582</td>\n",
              "      <td>0.116</td>\n",
              "      <td>-0.594</td>\n",
              "      <td>-0.991</td>\n",
              "      <td>-1.000</td>\n",
              "      <td>-1.000</td>\n",
              "      <td>-1.000</td>\n",
              "      <td>-1.000</td>\n",
              "      <td>-1.000</td>\n",
              "      <td>-1.0</td>\n",
              "    </tr>\n",
              "    <tr>\n",
              "      <th>684</th>\n",
              "      <td>-1.0</td>\n",
              "      <td>-1.0</td>\n",
              "      <td>-1.000</td>\n",
              "      <td>-1.000</td>\n",
              "      <td>-1.000</td>\n",
              "      <td>-0.922</td>\n",
              "      <td>0.609</td>\n",
              "      <td>0.933</td>\n",
              "      <td>0.337</td>\n",
              "      <td>-0.549</td>\n",
              "      <td>...</td>\n",
              "      <td>0.565</td>\n",
              "      <td>1.000</td>\n",
              "      <td>1.000</td>\n",
              "      <td>1.000</td>\n",
              "      <td>0.337</td>\n",
              "      <td>-0.992</td>\n",
              "      <td>-1.000</td>\n",
              "      <td>-1.000</td>\n",
              "      <td>-1.000</td>\n",
              "      <td>-1.0</td>\n",
              "    </tr>\n",
              "  </tbody>\n",
              "</table>\n",
              "<p>971 rows × 256 columns</p>\n",
              "</div>\n",
              "      <button class=\"colab-df-convert\" onclick=\"convertToInteractive('df-54c0b40f-b9fe-4d1f-a6c8-83589ceb2049')\"\n",
              "              title=\"Convert this dataframe to an interactive table.\"\n",
              "              style=\"display:none;\">\n",
              "        \n",
              "  <svg xmlns=\"http://www.w3.org/2000/svg\" height=\"24px\"viewBox=\"0 0 24 24\"\n",
              "       width=\"24px\">\n",
              "    <path d=\"M0 0h24v24H0V0z\" fill=\"none\"/>\n",
              "    <path d=\"M18.56 5.44l.94 2.06.94-2.06 2.06-.94-2.06-.94-.94-2.06-.94 2.06-2.06.94zm-11 1L8.5 8.5l.94-2.06 2.06-.94-2.06-.94L8.5 2.5l-.94 2.06-2.06.94zm10 10l.94 2.06.94-2.06 2.06-.94-2.06-.94-.94-2.06-.94 2.06-2.06.94z\"/><path d=\"M17.41 7.96l-1.37-1.37c-.4-.4-.92-.59-1.43-.59-.52 0-1.04.2-1.43.59L10.3 9.45l-7.72 7.72c-.78.78-.78 2.05 0 2.83L4 21.41c.39.39.9.59 1.41.59.51 0 1.02-.2 1.41-.59l7.78-7.78 2.81-2.81c.8-.78.8-2.07 0-2.86zM5.41 20L4 18.59l7.72-7.72 1.47 1.35L5.41 20z\"/>\n",
              "  </svg>\n",
              "      </button>\n",
              "      \n",
              "  <style>\n",
              "    .colab-df-container {\n",
              "      display:flex;\n",
              "      flex-wrap:wrap;\n",
              "      gap: 12px;\n",
              "    }\n",
              "\n",
              "    .colab-df-convert {\n",
              "      background-color: #E8F0FE;\n",
              "      border: none;\n",
              "      border-radius: 50%;\n",
              "      cursor: pointer;\n",
              "      display: none;\n",
              "      fill: #1967D2;\n",
              "      height: 32px;\n",
              "      padding: 0 0 0 0;\n",
              "      width: 32px;\n",
              "    }\n",
              "\n",
              "    .colab-df-convert:hover {\n",
              "      background-color: #E2EBFA;\n",
              "      box-shadow: 0px 1px 2px rgba(60, 64, 67, 0.3), 0px 1px 3px 1px rgba(60, 64, 67, 0.15);\n",
              "      fill: #174EA6;\n",
              "    }\n",
              "\n",
              "    [theme=dark] .colab-df-convert {\n",
              "      background-color: #3B4455;\n",
              "      fill: #D2E3FC;\n",
              "    }\n",
              "\n",
              "    [theme=dark] .colab-df-convert:hover {\n",
              "      background-color: #434B5C;\n",
              "      box-shadow: 0px 1px 3px 1px rgba(0, 0, 0, 0.15);\n",
              "      filter: drop-shadow(0px 1px 2px rgba(0, 0, 0, 0.3));\n",
              "      fill: #FFFFFF;\n",
              "    }\n",
              "  </style>\n",
              "\n",
              "      <script>\n",
              "        const buttonEl =\n",
              "          document.querySelector('#df-54c0b40f-b9fe-4d1f-a6c8-83589ceb2049 button.colab-df-convert');\n",
              "        buttonEl.style.display =\n",
              "          google.colab.kernel.accessAllowed ? 'block' : 'none';\n",
              "\n",
              "        async function convertToInteractive(key) {\n",
              "          const element = document.querySelector('#df-54c0b40f-b9fe-4d1f-a6c8-83589ceb2049');\n",
              "          const dataTable =\n",
              "            await google.colab.kernel.invokeFunction('convertToInteractive',\n",
              "                                                     [key], {});\n",
              "          if (!dataTable) return;\n",
              "\n",
              "          const docLinkHtml = 'Like what you see? Visit the ' +\n",
              "            '<a target=\"_blank\" href=https://colab.research.google.com/notebooks/data_table.ipynb>data table notebook</a>'\n",
              "            + ' to learn more about interactive tables.';\n",
              "          element.innerHTML = '';\n",
              "          dataTable['output_type'] = 'display_data';\n",
              "          await google.colab.output.renderOutput(dataTable, element);\n",
              "          const docLink = document.createElement('div');\n",
              "          docLink.innerHTML = docLinkHtml;\n",
              "          element.appendChild(docLink);\n",
              "        }\n",
              "      </script>\n",
              "    </div>\n",
              "  </div>\n",
              "  "
            ]
          },
          "metadata": {},
          "execution_count": 82
        }
      ]
    },
    {
      "cell_type": "code",
      "source": [
        "y_test"
      ],
      "metadata": {
        "colab": {
          "base_uri": "https://localhost:8080/"
        },
        "id": "nfhdLFyBijEE",
        "outputId": "c417342d-a8a4-49e8-e543-1af669eda206"
      },
      "execution_count": 83,
      "outputs": [
        {
          "output_type": "execute_result",
          "data": {
            "text/plain": [
              "906     1\n",
              "5      -1\n",
              "764    -1\n",
              "1199    1\n",
              "569     1\n",
              "       ..\n",
              "1050   -1\n",
              "1018   -1\n",
              "1175    1\n",
              "900    -1\n",
              "1162    1\n",
              "Name: 0, Length: 243, dtype: int64"
            ]
          },
          "metadata": {},
          "execution_count": 83
        }
      ]
    },
    {
      "cell_type": "code",
      "source": [
        "class AdaBoost:\n",
        "    \"\"\" AdaBoost classifier  \"\"\"\n",
        "\n",
        "    def __init__(self):\n",
        "        self.stumps = None\n",
        "        self.stump_wts = None\n",
        "        self.errors = None\n",
        "        self.sample_wts = None\n",
        "\n",
        "    def _check_X_y(self, X, y):\n",
        "        assert set(y) == {-1, 1}\n",
        "        return X, y"
      ],
      "metadata": {
        "id": "NDHS2qxDvJx1"
      },
      "execution_count": 84,
      "outputs": []
    },
    {
      "cell_type": "code",
      "source": [
        "def gini_impurity_tot(a=0, b=0, c=0, d=0):\n",
        "        tot_elements = a + b + c + d\n",
        "        gini1 = 1 - np.square(a/(a+b)) - np.square(b/(a+b))\n",
        "        gini2 = 1 - np.square(c/(c+d)) - np.square(d/(c+d))\n",
        "        tot_gini = ((a+b)/tot_elements) * gini1 + ((c+d)/tot_elements) * gini2\n",
        "        return tot_gini "
      ],
      "metadata": {
        "id": "opdT4b6_W8vS"
      },
      "execution_count": 85,
      "outputs": []
    },
    {
      "cell_type": "code",
      "source": [
        "def cal_Gini_For_Col(u_col, v):\n",
        "  mAvg = u_col.max() + u_col.min()\n",
        "  mAvg /=2\n",
        "  gini_left = 0\n",
        "  gini_right = 0\n",
        "  a,b,c,d = 0,0,0,0\n",
        "  for u_val, v_val in  zip(u_col, v):\n",
        "    if (u_val < mAvg):\n",
        "      if(int(v_val) == 1):\n",
        "        a+=1\n",
        "      else:\n",
        "        b+=1\n",
        "    else:\n",
        "      if(int(u_val) == 1):\n",
        "        c+=1\n",
        "      else:\n",
        "        d+=1\n",
        "  return gini_impurity_tot(a,b,c,d), a, b, c, d"
      ],
      "metadata": {
        "id": "7waUy-HMXYF8"
      },
      "execution_count": 86,
      "outputs": []
    },
    {
      "cell_type": "code",
      "source": [
        "def stum_descision( X, y):\n",
        "  mini_Gini = 3.00000000\n",
        "  mini_Gini_Index = 0.000000\n",
        "  ma, mb, mc, md = 0,0,0,0\n",
        "  for i in range(1, 256):\n",
        "    cal_Gini, a, b , c, d = cal_Gini_For_Col(X[i], y)\n",
        "    if(mini_Gini > cal_Gini):\n",
        "      mini_Gini = cal_Gini\n",
        "      mini_Gini_Index = i\n",
        "      ma, mb, mc, md = a, b , c, d\n",
        "  return mini_Gini, mini_Gini_Index"
      ],
      "metadata": {
        "id": "9ZM3EkFrcDHn"
      },
      "execution_count": 87,
      "outputs": []
    },
    {
      "cell_type": "code",
      "source": [
        "print(\"Minimum Gini Index and respective column number:\", stum_descision(x_train, y_train) )"
      ],
      "metadata": {
        "colab": {
          "base_uri": "https://localhost:8080/"
        },
        "id": "9WL5OJ9bcfm-",
        "outputId": "4f62b487-464d-4bcf-838a-710daaa4ce71"
      },
      "execution_count": 88,
      "outputs": [
        {
          "output_type": "stream",
          "name": "stdout",
          "text": [
            "Minimum Gini Index and respective column number: (0.3825879135449354, 8)\n"
          ]
        }
      ]
    },
    {
      "cell_type": "code",
      "source": [
        "from sklearn.tree import DecisionTreeClassifier\n",
        "\n",
        "def fit(self, X: np.ndarray, y: np.ndarray, iters: int):\n",
        "\n",
        "\n",
        "    X, y = self._check_X_y(X, y)\n",
        "    n = X.shape[0]\n",
        "    key= []\n",
        "    self.sample_wts = np.zeros(shape=(iters, n))\n",
        "    self.stumps = np.zeros(shape=iters, dtype=object)\n",
        "    self.stump_wts = np.zeros(shape=iters)\n",
        "    self.errors = np.zeros(shape=iters)\n",
        "    self.sample_wts[0] = np.ones(shape=n) / n\n",
        "\n",
        "    for x in range(iters):\n",
        "        curr_sample_wts = self.sample_wts[x]\n",
        "        stump = DecisionTreeClassifier(max_depth=1, max_leaf_nodes=2)\n",
        "        stump = stump.fit(X, y, sample_weight=curr_sample_wts)\n",
        "\n",
        "        stump_pred = stump.predict(X)\n",
        "        error = curr_sample_wts[(stump_pred != y)].sum()\n",
        "        stump_wt = np.log((1 - error) / error) / 2\n",
        "\n",
        "        new_sample_wts = (\n",
        "            curr_sample_wts * np.exp(-stump_wt * y * stump_pred)\n",
        "        )\n",
        "        \n",
        "        new_sample_wts /= new_sample_wts.sum()\n",
        "\n",
        "        if x+1 < iters:\n",
        "            self.sample_wts[x+1] = new_sample_wts\n",
        "\n",
        "        self.stumps[x] = stump\n",
        "        self.stump_wts[x] = stump_wt\n",
        "        self.errors[x] = error\n",
        "        key.append(x)\n",
        "\n",
        "       \n",
        "    plt.plot(key,self.errors)\n",
        "    plt.xlabel(\"No. of Iterations\")\n",
        "    plt.ylabel(\"Weighted Error\")\n",
        "    plt.show()\n",
        "\n",
        "    return self"
      ],
      "metadata": {
        "id": "Gzlv1pF2vRIB"
      },
      "execution_count": 89,
      "outputs": []
    },
    {
      "cell_type": "code",
      "source": [
        "def predict(self, X):\n",
        "    stump_predictions = np.array([stump.predict(X) for stump in self.stumps])\n",
        "    return np.sign(np.dot(self.stump_wts, stump_predictions))"
      ],
      "metadata": {
        "id": "YN9kr869vVo5"
      },
      "execution_count": 90,
      "outputs": []
    },
    {
      "cell_type": "code",
      "source": [
        "y_train"
      ],
      "metadata": {
        "colab": {
          "base_uri": "https://localhost:8080/"
        },
        "id": "hfgYoww7lI-c",
        "outputId": "2daed8eb-aed2-43b6-812e-1eb8ae67627c"
      },
      "execution_count": 91,
      "outputs": [
        {
          "output_type": "execute_result",
          "data": {
            "text/plain": [
              "893    -1\n",
              "1031   -1\n",
              "342    -1\n",
              "85      1\n",
              "192     1\n",
              "       ..\n",
              "1033    1\n",
              "763    -1\n",
              "835     1\n",
              "559    -1\n",
              "684    -1\n",
              "Name: 0, Length: 971, dtype: int64"
            ]
          },
          "metadata": {},
          "execution_count": 91
        }
      ]
    },
    {
      "cell_type": "code",
      "source": [
        "AdaBoost.fit = fit\n",
        "AdaBoost.predict = predict\n",
        "\n",
        "clf = AdaBoost().fit(x_train, y_train, iters=200)\n",
        "\n",
        "train_err = (clf.predict(x_test) != y_test).mean()\n",
        "print(f'Train error: {train_err:.1%}')"
      ],
      "metadata": {
        "colab": {
          "base_uri": "https://localhost:8080/",
          "height": 296
        },
        "id": "aUTEcmgJvZP-",
        "outputId": "6eefffc5-82c0-49eb-a735-fe628bf7eb9b"
      },
      "execution_count": 92,
      "outputs": [
        {
          "output_type": "display_data",
          "data": {
            "text/plain": [
              "<Figure size 432x288 with 1 Axes>"
            ],
            "image/png": "[encoded data removed]"
          },
          "metadata": {
            "needs_background": "light"
          }
        },
        {
          "output_type": "stream",
          "name": "stdout",
          "text": [
            "Train error: 1.6%\n"
          ]
        }
      ]
    },
    {
      "cell_type": "code",
      "source": [
        "td = pd.read_csv(\"1646102559_513849_test35-nolabels.txt\", header=None)\n",
        "# First 5 rows of our data\n",
        "td.dropna"
      ],
      "metadata": {
        "colab": {
          "base_uri": "https://localhost:8080/"
        },
        "id": "Y0Oe3OERTINB",
        "outputId": "b437667b-945c-4a5a-a77e-f5e46c24f5d7"
      },
      "execution_count": 93,
      "outputs": [
        {
          "output_type": "execute_result",
          "data": {
            "text/plain": [
              "<bound method DataFrame.dropna of      0    1      2      3      4      5      6      7      8      9    ...  \\\n",
              "0   -1.0 -1.0 -1.000 -0.593  0.700  1.000  1.000  1.000  1.000  0.853  ...   \n",
              "1   -1.0 -1.0 -1.000  0.264  0.532 -0.210 -0.746 -0.779 -1.000 -1.000  ...   \n",
              "2   -1.0 -1.0 -0.983  0.662 -0.509 -1.000 -1.000 -1.000 -1.000 -1.000  ...   \n",
              "3   -1.0 -1.0 -1.000 -0.941 -0.120  0.858  1.000  1.000  1.000  0.698  ...   \n",
              "4   -1.0 -1.0 -1.000 -1.000 -0.933  0.461  0.779  0.584  0.584  0.584  ...   \n",
              "..   ...  ...    ...    ...    ...    ...    ...    ...    ...    ...  ...   \n",
              "321 -1.0 -1.0 -1.000 -1.000 -1.000 -1.000 -1.000 -1.000 -1.000 -0.945  ...   \n",
              "322 -1.0 -1.0 -1.000 -1.000 -1.000 -0.565  0.388  1.000  1.000  1.000  ...   \n",
              "323 -1.0 -1.0 -1.000 -0.939  0.536  1.000  1.000  1.000  0.871  0.264  ...   \n",
              "324 -1.0 -1.0 -1.000 -0.885 -0.280 -0.411 -0.920 -0.920 -0.920 -0.920  ...   \n",
              "325 -1.0 -1.0 -1.000 -1.000 -1.000 -0.417  0.814  1.000  0.775 -0.723  ...   \n",
              "\n",
              "       246    247    248    249    250    251    252    253    254  255  \n",
              "0    1.000  0.717  0.333  0.162 -0.393 -1.000 -1.000 -1.000 -1.000 -1.0  \n",
              "1    0.461  0.418 -0.057 -0.829 -1.000 -1.000 -1.000 -1.000 -1.000 -1.0  \n",
              "2    0.774  1.000  0.802  0.513  0.009 -0.603 -1.000 -1.000 -1.000 -1.0  \n",
              "3    0.841  1.000  0.823  0.203 -0.478 -1.000 -1.000 -1.000 -1.000 -1.0  \n",
              "4    1.000  0.857  0.371 -0.397 -0.949 -1.000 -1.000 -1.000 -1.000 -1.0  \n",
              "..     ...    ...    ...    ...    ...    ...    ...    ...    ...  ...  \n",
              "321  0.132  0.418  0.633  0.541  0.418  0.259 -0.625 -0.746 -0.883 -1.0  \n",
              "322 -0.634 -0.126  0.383  1.000  1.000  0.970  0.207  0.045 -0.967 -1.0  \n",
              "323  1.000  1.000  1.000  1.000  1.000  0.748  0.026 -0.827 -1.000 -1.0  \n",
              "324  0.389  1.000  1.000  1.000  0.868 -0.400 -0.998 -1.000 -1.000 -1.0  \n",
              "325  1.000  1.000  0.554  0.184 -0.484 -1.000 -1.000 -1.000 -1.000 -1.0  \n",
              "\n",
              "[326 rows x 256 columns]>"
            ]
          },
          "metadata": {},
          "execution_count": 93
        }
      ]
    },
    {
      "cell_type": "code",
      "source": [
        "# from pandas.core.frame import DataFrame\n",
        "tp=clf.predict(td)\n",
        "tp=pd.DataFrame(tp).astype(int)"
      ],
      "metadata": {
        "id": "6SUzu2uxTk2v"
      },
      "execution_count": 94,
      "outputs": []
    },
    {
      "cell_type": "code",
      "source": [
        "tp= tp.replace(1,5)\n",
        "tp= tp.replace(-1,3)"
      ],
      "metadata": {
        "id": "DMLAjfBxV8AR"
      },
      "execution_count": 95,
      "outputs": []
    },
    {
      "cell_type": "code",
      "source": [
        "output = open('./outputAssing2.txt', 'w')\n",
        "\n",
        "output.write(tp.to_string(header=False, index=False))\n",
        "output.close()"
      ],
      "metadata": {
        "id": "swfWA1gbVvoc"
      },
      "execution_count": 96,
      "outputs": []
    },
    {
      "cell_type": "code",
      "source": [
        "    #graph plotting\n",
        "    itr=[10,50,100,150,200,300,400,500]\n",
        "    Train_error=[0.078,0.037,0.037,0.033,0.016,0.021,0.021,0.016]\n",
        "    plt.plot(itr,Train_error)\n",
        "\n",
        "    plt.xlabel(\"No. of Iterations\")\n",
        "\n",
        "    plt.ylabel(\"Train Error\")\n",
        "\n",
        "    plt.show()"
      ],
      "metadata": {
        "colab": {
          "base_uri": "https://localhost:8080/",
          "height": 280
        },
        "id": "9zFrjtPwXBsg",
        "outputId": "3722f610-cce2-4d5f-b004-eb240449afd0"
      },
      "execution_count": 97,
      "outputs": [
        {
          "output_type": "display_data",
          "data": {
            "text/plain": [
              "<Figure size 432x288 with 1 Axes>"
            ],
            "image/png": "[encoded data removed]"
          },
          "metadata": {
            "needs_background": "light"
          }
        }
      ]
    },
    {
      "cell_type": "code",
      "source": [
        "    #graph plotting\n",
        "    itr=[10,50,100,150,200,300,400,500]\n",
        "    Test_error=[0.09,0.05,0.05,0.06,0.06,0.06,0.06,0.07]\n",
        "    plt.plot(itr,Test_error)\n",
        "\n",
        "    plt.xlabel(\"No. of Iterations\")\n",
        "\n",
        "    plt.ylabel(\"Test Error\")\n",
        "\n",
        "    plt.show()"
      ],
      "metadata": {
        "colab": {
          "base_uri": "https://localhost:8080/",
          "height": 279
        },
        "id": "8FEkoEI8a7dY",
        "outputId": "ecf9f62b-4c80-44cf-a3f8-984cc52abfcb"
      },
      "execution_count": 98,
      "outputs": [
        {
          "output_type": "display_data",
          "data": {
            "text/plain": [
              "<Figure size 432x288 with 1 Axes>"
            ],
            "image/png": "[encoded data removed]"
          },
          "metadata": {
            "needs_background": "light"
          }
        }
      ]
    },
    {
      "cell_type": "code",
      "source": [
        "stump = DecisionTreeClassifier(max_depth=1, max_leaf_nodes=2)\n",
        "\n",
        "stump = stump.fit(x_train, y_train)\n",
        "\n",
        "train_err = (stump.predict(x_test) != y_test).mean()\n",
        "\n",
        "print(f'Train error: {train_err:.1%}')"
      ],
      "metadata": {
        "colab": {
          "base_uri": "https://localhost:8080/"
        },
        "id": "waCZ3AFItFWg",
        "outputId": "6512d07d-3354-4c3e-d465-27628a696083"
      },
      "execution_count": 99,
      "outputs": [
        {
          "output_type": "stream",
          "name": "stdout",
          "text": [
            "Train error: 8.2%\n"
          ]
        }
      ]
    },
    {
      "cell_type": "code",
      "source": [
        "Train_error=[0.078,0.037,0.037,0.033,0.016,0.021,0.021,0.016]\n",
        "Test_error=[0.09,0.05,0.05,0.06,0.06,0.06,0.06,0.07]\n",
        "singleDT_error=[0.082,0.082,0.082,0.082,0.082,0.082,0.082,0.082]\n",
        "itr=[10,50,100,150,200,300,400,500]\n",
        "plt.plot(itr, Train_error, 'g', label='Training error')\n",
        "plt.plot(itr, Test_error, 'b', label='Test error')\n",
        "plt.plot(itr, singleDT_error, 'r', label='Single Decision Tree error')\n",
        "plt.title('Training and Test error')\n",
        "plt.xlabel('No of Iterations')\n",
        "plt.ylabel('Error')\n",
        "plt.legend()\n",
        "plt.show()"
      ],
      "metadata": {
        "colab": {
          "base_uri": "https://localhost:8080/",
          "height": 295
        },
        "id": "EY1NMeXClEB1",
        "outputId": "602743ee-1f5c-4477-8a0d-bbcc2c2a9d06"
      },
      "execution_count": 100,
      "outputs": [
        {
          "output_type": "display_data",
          "data": {
            "text/plain": [
              "<Figure size 432x288 with 1 Axes>"
            ],
            "image/png": "[encoded data removed]"
          },
          "metadata": {
            "needs_background": "light"
          }
        }
      ]
    }
  ]
}