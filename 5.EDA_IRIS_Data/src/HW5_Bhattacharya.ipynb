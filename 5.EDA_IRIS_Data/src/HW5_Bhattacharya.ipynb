{
  "nbformat": 4,
  "nbformat_minor": 0,
  "metadata": {
    "colab": {
      "name": "HW5_Bhattacharya.ipynb",
      "provenance": []
    },
    "kernelspec": {
      "name": "python3",
      "display_name": "Python 3"
    },
    "language_info": {
      "name": "python"
    }
  },
  "cells": [
    {
      "cell_type": "code",
      "execution_count": 46,
      "metadata": {
        "id": "E5XICeigK7nD"
      },
      "outputs": [],
      "source": [
        "import numpy as np\n",
        "import pandas as pd\n",
        "from scipy.spatial.distance import cdist \n",
        "from sklearn.datasets import load_digits\n",
        "from sklearn.decomposition import PCA\n",
        "from sklearn.cluster import KMeans\n",
        "import matplotlib.pyplot as plt"
      ]
    },
    {
      "cell_type": "code",
      "source": [
        "input_iris_data = pd.read_table(\"1649181792_01407_1604554690_4994035_1601384279_9602122_iris_new_data.txt\", header=None, skip_blank_lines=False, delim_whitespace=True)\n",
        "\n",
        "input_iris_data.values"
      ],
      "metadata": {
        "colab": {
          "base_uri": "https://localhost:8080/"
        },
        "id": "syaSmgD_LDZ6",
        "outputId": "bf161139-5e2f-456f-cab5-5fcdf5032fd0"
      },
      "execution_count": 47,
      "outputs": [
        {
          "output_type": "execute_result",
          "data": {
            "text/plain": [
              "array([[5.7, 4.4, 1.5, 0.4],\n",
              "       [5.5, 4.2, 1.4, 0.2],\n",
              "       [5.2, 4.1, 1.5, 0.1],\n",
              "       [5.8, 4. , 1.2, 0.2],\n",
              "       [5.4, 3.9, 1.7, 0.4],\n",
              "       [5.4, 3.9, 1.3, 0.4],\n",
              "       [7.7, 3.8, 6.7, 2.2],\n",
              "       [7.9, 3.8, 6.4, 2. ],\n",
              "       [5.1, 3.8, 1.9, 0.4],\n",
              "       [5.7, 3.8, 1.7, 0.3],\n",
              "       [5.1, 3.8, 1.6, 0.2],\n",
              "       [5.1, 3.8, 1.5, 0.3],\n",
              "       [5.1, 3.7, 1.5, 0.4],\n",
              "       [5.4, 3.7, 1.5, 0.2],\n",
              "       [5.3, 3.7, 1.5, 0.2],\n",
              "       [7.2, 3.6, 6.1, 2.5],\n",
              "       [5. , 3.6, 1.4, 0.2],\n",
              "       [4.6, 3.6, 1. , 0.2],\n",
              "       [5. , 3.5, 1.6, 0.6],\n",
              "       [5.2, 3.5, 1.5, 0.2],\n",
              "       [5.1, 3.5, 1.4, 0.3],\n",
              "       [5.1, 3.5, 1.4, 0.2],\n",
              "       [5. , 3.5, 1.3, 0.3],\n",
              "       [5.5, 3.5, 1.3, 0.2],\n",
              "       [6.3, 3.4, 5.6, 2.4],\n",
              "       [6.2, 3.4, 5.4, 2.3],\n",
              "       [6. , 3.4, 4.5, 1.6],\n",
              "       [4.8, 3.4, 1.9, 0.2],\n",
              "       [5.4, 3.4, 1.7, 0.2],\n",
              "       [5. , 3.4, 1.6, 0.4],\n",
              "       [4.8, 3.4, 1.6, 0.2],\n",
              "       [5.4, 3.4, 1.5, 0.4],\n",
              "       [5.1, 3.4, 1.5, 0.2],\n",
              "       [5. , 3.4, 1.5, 0.2],\n",
              "       [4.6, 3.4, 1.4, 0.3],\n",
              "       [5.2, 3.4, 1.4, 0.2],\n",
              "       [6.3, 3.3, 6. , 2.5],\n",
              "       [6.7, 3.3, 5.7, 2.5],\n",
              "       [6.7, 3.3, 5.7, 2.1],\n",
              "       [6.3, 3.3, 4.7, 1.6],\n",
              "       [5.1, 3.3, 1.7, 0.5],\n",
              "       [5. , 3.3, 1.4, 0.2],\n",
              "       [7.2, 3.2, 6. , 1.8],\n",
              "       [6.8, 3.2, 5.9, 2.3],\n",
              "       [6.9, 3.2, 5.7, 2.3],\n",
              "       [6.4, 3.2, 5.3, 2.3],\n",
              "       [6.5, 3.2, 5.1, 2. ],\n",
              "       [5.9, 3.2, 4.8, 1.8],\n",
              "       [7. , 3.2, 4.7, 1.4],\n",
              "       [6.4, 3.2, 4.5, 1.5],\n",
              "       [4.7, 3.2, 1.6, 0.2],\n",
              "       [4.6, 3.2, 1.4, 0.2],\n",
              "       [4.7, 3.2, 1.3, 0.2],\n",
              "       [4.4, 3.2, 1.3, 0.2],\n",
              "       [5. , 3.2, 1.2, 0.2],\n",
              "       [6.7, 3.1, 5.6, 2.4],\n",
              "       [6.4, 3.1, 5.5, 1.8],\n",
              "       [6.9, 3.1, 5.4, 2.1],\n",
              "       [6.9, 3.1, 5.1, 2.3],\n",
              "       [6.9, 3.1, 4.9, 1.5],\n",
              "       [6.7, 3.1, 4.7, 1.5],\n",
              "       [6.7, 3.1, 4.4, 1.4],\n",
              "       [4.8, 3.1, 1.6, 0.2],\n",
              "       [4.6, 3.1, 1.5, 0.2],\n",
              "       [4.9, 3.1, 1.5, 0.1],\n",
              "       [4.9, 3.1, 1.5, 0.1],\n",
              "       [4.9, 3.1, 1.5, 0.1],\n",
              "       [7.6, 3. , 6.6, 2.1],\n",
              "       [7.7, 3. , 6.1, 2.3],\n",
              "       [7.1, 3. , 5.9, 2.1],\n",
              "       [6.5, 3. , 5.8, 2.2],\n",
              "       [7.2, 3. , 5.8, 1.6],\n",
              "       [6.8, 3. , 5.5, 2.1],\n",
              "       [6.5, 3. , 5.5, 1.8],\n",
              "       [6.7, 3. , 5.2, 2.3],\n",
              "       [6.5, 3. , 5.2, 2. ],\n",
              "       [5.9, 3. , 5.1, 1.8],\n",
              "       [6.7, 3. , 5. , 1.7],\n",
              "       [6.1, 3. , 4.9, 1.8],\n",
              "       [6. , 3. , 4.8, 1.8],\n",
              "       [6.1, 3. , 4.6, 1.4],\n",
              "       [5.6, 3. , 4.5, 1.5],\n",
              "       [5.4, 3. , 4.5, 1.5],\n",
              "       [6.6, 3. , 4.4, 1.4],\n",
              "       [5.9, 3. , 4.2, 1.5],\n",
              "       [5.7, 3. , 4.2, 1.2],\n",
              "       [5.6, 3. , 4.1, 1.3],\n",
              "       [5. , 3. , 1.6, 0.2],\n",
              "       [4.8, 3. , 1.4, 0.3],\n",
              "       [4.9, 3. , 1.4, 0.2],\n",
              "       [4.8, 3. , 1.4, 0.1],\n",
              "       [4.4, 3. , 1.3, 0.2],\n",
              "       [4.3, 3. , 1.1, 0.1],\n",
              "       [7.3, 2.9, 6.3, 1.8],\n",
              "       [6.3, 2.9, 5.6, 1.8],\n",
              "       [6.1, 2.9, 4.7, 1.4],\n",
              "       [6.6, 2.9, 4.6, 1.3],\n",
              "       [6. , 2.9, 4.5, 1.5],\n",
              "       [6.4, 2.9, 4.3, 1.3],\n",
              "       [6.2, 2.9, 4.3, 1.3],\n",
              "       [5.7, 2.9, 4.2, 1.3],\n",
              "       [5.6, 2.9, 3.6, 1.3],\n",
              "       [4.4, 2.9, 1.4, 0.2],\n",
              "       [7.7, 2.8, 6.7, 2. ],\n",
              "       [7.4, 2.8, 6.1, 1.9],\n",
              "       [6.4, 2.8, 5.6, 2.2],\n",
              "       [6.4, 2.8, 5.6, 2.1],\n",
              "       [5.8, 2.8, 5.1, 2.4],\n",
              "       [6.3, 2.8, 5.1, 1.5],\n",
              "       [5.6, 2.8, 4.9, 2. ],\n",
              "       [6.2, 2.8, 4.8, 1.8],\n",
              "       [6.8, 2.8, 4.8, 1.4],\n",
              "       [6.1, 2.8, 4.7, 1.2],\n",
              "       [6.5, 2.8, 4.6, 1.5],\n",
              "       [5.7, 2.8, 4.5, 1.3],\n",
              "       [5.7, 2.8, 4.1, 1.3],\n",
              "       [6.1, 2.8, 4. , 1.3],\n",
              "       [6.4, 2.7, 5.3, 1.9],\n",
              "       [5.8, 2.7, 5.1, 1.9],\n",
              "       [5.8, 2.7, 5.1, 1.9],\n",
              "       [6. , 2.7, 5.1, 1.6],\n",
              "       [6.3, 2.7, 4.9, 1.8],\n",
              "       [5.6, 2.7, 4.2, 1.3],\n",
              "       [5.8, 2.7, 4.1, 1. ],\n",
              "       [5.2, 2.7, 3.9, 1.4],\n",
              "       [5.8, 2.7, 3.9, 1.2],\n",
              "       [7.7, 2.6, 6.9, 2.3],\n",
              "       [6.1, 2.6, 5.6, 1.4],\n",
              "       [5.5, 2.6, 4.4, 1.2],\n",
              "       [5.8, 2.6, 4. , 1.2],\n",
              "       [5.7, 2.6, 3.5, 1. ],\n",
              "       [6.7, 2.5, 5.8, 1.8],\n",
              "       [5.7, 2.5, 5. , 2. ],\n",
              "       [6.3, 2.5, 5. , 1.9],\n",
              "       [6.3, 2.5, 4.9, 1.5],\n",
              "       [4.9, 2.5, 4.5, 1.7],\n",
              "       [5.5, 2.5, 4. , 1.3],\n",
              "       [5.6, 2.5, 3.9, 1.1],\n",
              "       [5.1, 2.5, 3. , 1.1],\n",
              "       [5.5, 2.4, 3.8, 1.1],\n",
              "       [5.5, 2.4, 3.7, 1. ],\n",
              "       [4.9, 2.4, 3.3, 1. ],\n",
              "       [6.3, 2.3, 4.4, 1.3],\n",
              "       [5.5, 2.3, 4. , 1.3],\n",
              "       [5. , 2.3, 3.3, 1. ],\n",
              "       [4.5, 2.3, 1.3, 0.3],\n",
              "       [6. , 2.2, 5. , 1.5],\n",
              "       [6.2, 2.2, 4.5, 1.5],\n",
              "       [6. , 2.2, 4. , 1. ],\n",
              "       [5. , 2. , 3.5, 1. ]])"
            ]
          },
          "metadata": {},
          "execution_count": 47
        }
      ]
    },
    {
      "cell_type": "code",
      "source": [
        "def kmeans(a,k, iterations):\n",
        "    index = np.random.choice(len(a), k, replace=False)\n",
        "    centroids = a[index, :]\n",
        "    distances = cdist(a, centroids ,'cosine')\n",
        "    points = np.array([np.argmin(i) for i in distances])\n",
        "    for _ in range(iterations):\n",
        "      centroids = []\n",
        "      for index in range(k):\n",
        "        temp = a[points==index].mean(axis=0)\n",
        "        centroids.append(temp)\n",
        "      centroids = np.vstack(centroids)\n",
        "      distances = cdist(a, centroids ,'cosine')\n",
        "      points = np.array([np.argmin(i) for i in distances])\n",
        "    return points"
      ],
      "metadata": {
        "id": "AHDIabsQL-fI"
      },
      "execution_count": 48,
      "outputs": []
    },
    {
      "cell_type": "code",
      "source": [
        "output_iris = kmeans(input_iris_data.values,3,1000)\n",
        "\n",
        "print(output_iris)\n",
        "\n",
        "np.savetxt(\"Output_iris_data.txt\",output_iris,fmt=\"%s\")"
      ],
      "metadata": {
        "colab": {
          "base_uri": "https://localhost:8080/"
        },
        "id": "b24FKxPoMhsC",
        "outputId": "43dcdd6c-6905-4b76-b77f-d99d912022bb"
      },
      "execution_count": 49,
      "outputs": [
        {
          "output_type": "stream",
          "name": "stdout",
          "text": [
            "[0 0 0 0 0 0 2 2 0 0 0 0 0 0 0 2 0 0 0 0 0 0 0 0 2 2 1 0 0 0 0 0 0 0 0 0 2\n",
            " 2 2 1 0 0 2 2 2 2 2 2 1 1 0 0 0 0 0 2 2 2 2 1 1 1 0 0 0 0 0 2 2 2 2 2 2 2\n",
            " 2 2 2 1 2 2 1 2 2 1 1 1 1 0 0 0 0 0 0 2 2 1 1 1 1 1 1 1 0 2 2 2 2 2 2 2 2\n",
            " 1 1 1 1 1 1 2 2 2 2 2 1 1 1 1 2 2 1 1 1 2 2 2 2 2 1 1 1 1 1 1 1 1 1 0 2 1\n",
            " 1 1]\n"
          ]
        }
      ]
    },
    {
      "cell_type": "code",
      "source": [
        "pca = PCA(2)\n",
        "dx = pca.fit_transform(input_iris_data)\n",
        "u_labels = np.unique(output_iris)\n",
        "for j in u_labels:\n",
        "    plt.scatter(dx[output_iris == j , 0] , dx[output_iris == j , 1] , label = j)\n",
        "plt.legend()\n",
        "plt.show()\n",
        "len(dx[output_iris == 0])"
      ],
      "metadata": {
        "colab": {
          "base_uri": "https://localhost:8080/",
          "height": 286
        },
        "id": "CZ5vWymaMrkD",
        "outputId": "9db6b439-d823-497f-8cc0-2d2e7d005959"
      },
      "execution_count": 50,
      "outputs": [
        {
          "output_type": "display_data",
          "data": {
            "text/plain": [
              "<Figure size 432x288 with 1 Axes>"
            ],
            "image/png": "[encoded data removed]"
          },
          "metadata": {
            "needs_background": "light"
          }
        },
        {
          "output_type": "execute_result",
          "data": {
            "text/plain": [
              "50"
            ]
          },
          "metadata": {},
          "execution_count": 50
        }
      ]
    },
    {
      "cell_type": "code",
      "source": [
        "part2 = pd.read_table(\"/content/1649182019_5350096_1604556007_243332_1601384482_8387134_image_new_test.txt\", delimiter =\",\",header=None)"
      ],
      "metadata": {
        "id": "N4XmM-ui5Wod"
      },
      "execution_count": 51,
      "outputs": []
    },
    {
      "cell_type": "code",
      "source": [
        "def kmeans(a,k, iterations):\n",
        "    index = np.random.choice(len(a), k, replace=False)\n",
        "   \n",
        "    centroids = a[index, :] \n",
        "     \n",
        "    dist = cdist(a, centroids ,'cosine')\n",
        "\n",
        "    points = np.array([np.argmin(i) for i in dist])\n",
        "    \n",
        "    for _ in range(iterations): \n",
        "        centroids = []\n",
        "        for index in range(k):\n",
        "            temp = a[points==index].mean(axis=0) \n",
        "            centroids.append(temp)\n",
        " \n",
        "        centroids = np.vstack(centroids) \n",
        "        dist = cdist(a, centroids ,'cosine')\n",
        "        points = np.array([np.argmin(i) for i in dist])\n",
        "         \n",
        "    return [points,centroids];"
      ],
      "metadata": {
        "id": "8h8F5TEo94ha"
      },
      "execution_count": 52,
      "outputs": []
    },
    {
      "cell_type": "code",
      "source": [
        "test = kmeans(part2.values,10,50)"
      ],
      "metadata": {
        "id": "i-LhUaLe-ih6"
      },
      "execution_count": 70,
      "outputs": []
    },
    {
      "cell_type": "code",
      "source": [
        "fig, ax = plt.subplots(2, 5, figsize=(8, 3))\n",
        "center =test[1].reshape(10,28,28)\n",
        "for axi, center in zip(ax.flat, center):\n",
        "    axi.set(xticks=[], yticks=[])\n",
        "    axi.imshow(center, interpolation='nearest', cmap=plt.cm.binary)"
      ],
      "metadata": {
        "colab": {
          "base_uri": "https://localhost:8080/",
          "height": 197
        },
        "id": "LqaIo4Nw-nYz",
        "outputId": "ab75cdf1-2b13-4d87-df14-f5a0bdc41aa2"
      },
      "execution_count": 71,
      "outputs": [
        {
          "output_type": "display_data",
          "data": {
            "text/plain": [
              "<Figure size 576x216 with 10 Axes>"
            ],
            "image/png": "[encoded data removed]"
          },
          "metadata": {}
        }
      ]
    },
    {
      "cell_type": "code",
      "source": [
        "def sum_squ_err(y,y1):\n",
        "  summation = 0 \n",
        "  l = len(y)\n",
        "\n",
        "  for i in range (1,l):\n",
        "    diff = y[i] - y1[i] \n",
        "    squ_diff = diff**2  \n",
        "    summation = summation + squ_diff \n",
        "  return summation/l  \n",
        "\n",
        "distortions = []\n",
        "\n",
        "K = [2,4,6,8,10,12,14,16,18,20]\n",
        "y = kmeans(part2.values,10,50)   \n",
        " \n",
        "for k in K:\n",
        "\n",
        "    kmeanModel2 = kmeans(part2.values,k,50)    \n",
        "    m=kmeanModel2[0]\n",
        "\n",
        "    distortions.append(sum_squ_err(y[0],m))"
      ],
      "metadata": {
        "id": "ovMm7kdz-st2"
      },
      "execution_count": 75,
      "outputs": []
    },
    {
      "cell_type": "code",
      "source": [
        "plt.figure()\n",
        "plt.plot(K, distortions, 'bx-')\n",
        "plt.title('Optimal K by using Elbow Method')\n",
        "plt.xlabel('k')\n",
        "plt.ylabel('Distortion')\n",
        "\n",
        "plt.show()"
      ],
      "metadata": {
        "colab": {
          "base_uri": "https://localhost:8080/",
          "height": 295
        },
        "id": "DoAGXbzT-4aj",
        "outputId": "ffaab2df-9088-45de-a476-5c5a1530a6c8"
      },
      "execution_count": 76,
      "outputs": [
        {
          "output_type": "display_data",
          "data": {
            "text/plain": [
              "<Figure size 432x288 with 1 Axes>"
            ],
            "image/png": "[encoded data removed]"
          },
          "metadata": {
            "needs_background": "light"
          }
        }
      ]
    },
    {
      "cell_type": "code",
      "source": [
        "pca = PCA(n_components=72)\n",
        "res_pca = pca.fit_transform(part2)\n",
        "print('Variation/principal: {}'.format(pca.explained_variance_ratio_))\n",
        "from sklearn.manifold import TSNE\n",
        "\n",
        "tsne = TSNE(n_components=2,perplexity=8,verbose=1,n_iter=250)\n",
        "res_tsne_pca = tsne.fit_transform(res_pca)"
      ],
      "metadata": {
        "colab": {
          "base_uri": "https://localhost:8080/"
        },
        "id": "Gek0bx_H-_GR",
        "outputId": "cfcbc3d7-76f3-4bd9-fa6f-2620ab09baa4"
      },
      "execution_count": 77,
      "outputs": [
        {
          "output_type": "stream",
          "name": "stdout",
          "text": [
            "Variation/principal: [0.10047663 0.07544487 0.06140516 0.05425807 0.05031249 0.04246363\n",
            " 0.03311404 0.02950288 0.02729858 0.02278041 0.02133899 0.02095204\n",
            " 0.01725898 0.01685758 0.01576077 0.01494562 0.01302506 0.01278467\n",
            " 0.01180118 0.011483   0.0106641  0.01027178 0.00979715 0.00901867\n",
            " 0.00888231 0.00826573 0.00799743 0.00765838 0.00717514 0.00687256\n",
            " 0.00649144 0.00627159 0.00590284 0.00581759 0.00544738 0.00541655\n",
            " 0.00507243 0.00481121 0.00460166 0.00451523 0.00437027 0.00424364\n",
            " 0.00412964 0.00389631 0.00378241 0.00370461 0.00358284 0.00331726\n",
            " 0.00326815 0.00311841 0.00304069 0.00297838 0.00288484 0.002787\n",
            " 0.00273016 0.00262954 0.00254961 0.0025301  0.00244545 0.00241423\n",
            " 0.00234341 0.00233317 0.00223033 0.00215473 0.00208494 0.0020192\n",
            " 0.00199294 0.00188052 0.00186784 0.00184363 0.00178874 0.00173455]\n",
            "[t-SNE] Computing 25 nearest neighbors...\n",
            "[t-SNE] Indexed 10000 samples in 0.002s...\n"
          ]
        },
        {
          "output_type": "stream",
          "name": "stderr",
          "text": [
            "/usr/local/lib/python3.7/dist-packages/sklearn/manifold/_t_sne.py:783: FutureWarning: The default initialization in TSNE will change from 'random' to 'pca' in 1.2.\n",
            "  FutureWarning,\n",
            "/usr/local/lib/python3.7/dist-packages/sklearn/manifold/_t_sne.py:793: FutureWarning: The default learning rate in TSNE will change from 200.0 to 'auto' in 1.2.\n",
            "  FutureWarning,\n"
          ]
        },
        {
          "output_type": "stream",
          "name": "stdout",
          "text": [
            "[t-SNE] Computed neighbors for 10000 samples in 2.925s...\n",
            "[t-SNE] Computed conditional probabilities for sample 1000 / 10000\n",
            "[t-SNE] Computed conditional probabilities for sample 2000 / 10000\n",
            "[t-SNE] Computed conditional probabilities for sample 3000 / 10000\n",
            "[t-SNE] Computed conditional probabilities for sample 4000 / 10000\n",
            "[t-SNE] Computed conditional probabilities for sample 5000 / 10000\n",
            "[t-SNE] Computed conditional probabilities for sample 6000 / 10000\n",
            "[t-SNE] Computed conditional probabilities for sample 7000 / 10000\n",
            "[t-SNE] Computed conditional probabilities for sample 8000 / 10000\n",
            "[t-SNE] Computed conditional probabilities for sample 9000 / 10000\n",
            "[t-SNE] Computed conditional probabilities for sample 10000 / 10000\n",
            "[t-SNE] Mean sigma: 350.140895\n",
            "[t-SNE] KL divergence after 250 iterations with early exaggeration: 92.475990\n",
            "[t-SNE] KL divergence after 251 iterations: 179769313486231570814527423731704356798070567525844996598917476803157260780028538760589558632766878171540458953514382464234321326889464182768467546703537516986049910576551282076245490090389328944075868508455133942304583236903222948165808559332123348274797826204144723168738177180919299881250404026184124858368.000000\n"
          ]
        }
      ]
    },
    {
      "cell_type": "code",
      "source": [
        "tag = kmeans(res_tsne_pca,10,50)\n",
        "print((tag[0]))"
      ],
      "metadata": {
        "colab": {
          "base_uri": "https://localhost:8080/"
        },
        "id": "bYnuOmt4_DRc",
        "outputId": "ed6ccb97-4435-4478-9cf8-20e8dc728188"
      },
      "execution_count": 78,
      "outputs": [
        {
          "output_type": "stream",
          "name": "stdout",
          "text": [
            "[6 3 0 ... 0 2 7]\n"
          ]
        }
      ]
    },
    {
      "cell_type": "code",
      "source": [
        "u_tag = np.unique(tag[0])\n",
        "for i in u_tag:\n",
        "    plt.scatter(res_tsne_pca[tag[0] == i , 0] , res_tsne_pca[tag[0] == i , 1] , label = i)\n",
        "\n",
        "plt.legend(loc='center right')\n",
        "plt.figure(figsize=(20,20))\n",
        "plt.show()"
      ],
      "metadata": {
        "colab": {
          "base_uri": "https://localhost:8080/",
          "height": 282
        },
        "id": "xHK-g5Gu_GuF",
        "outputId": "2bafa4bb-ffab-4897-c20f-ea7184c8ffb8"
      },
      "execution_count": 79,
      "outputs": [
        {
          "output_type": "display_data",
          "data": {
            "text/plain": [
              "<Figure size 432x288 with 1 Axes>"
            ],
            "image/png": "[encoded data removed]"
          },
          "metadata": {
            "needs_background": "light"
          }
        },
        {
          "output_type": "display_data",
          "data": {
            "text/plain": [
              "<Figure size 1440x1440 with 0 Axes>"
            ]
          },
          "metadata": {}
        }
      ]
    },
    {
      "cell_type": "code",
      "source": [
        "np.savetxt(\"output_image_data.txt\",tag[0],fmt=\"%s\")"
      ],
      "metadata": {
        "id": "ZrfPuqmU_J1_"
      },
      "execution_count": 80,
      "outputs": []
    }
  ]
}